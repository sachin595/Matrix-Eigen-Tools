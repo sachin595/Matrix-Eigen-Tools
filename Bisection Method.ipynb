{
 "cells": [
  {
   "cell_type": "markdown",
   "id": "d435a9ab",
   "metadata": {},
   "source": [
    "# \tDetermining to a prescribed accuracy one of the eigenvalues using the BISECTION method. "
   ]
  },
  {
   "cell_type": "code",
   "execution_count": 5,
   "id": "9123a881",
   "metadata": {},
   "outputs": [
    {
     "name": "stdout",
     "output_type": "stream",
     "text": [
      "Enter the dimension of the matrix: 4\n",
      "Enter the diagonal elements: \n",
      "-2\n",
      "-2\n",
      "-2\n",
      "-2\n",
      "Enter the subdiagonal elements: \n",
      "1\n",
      "1\n",
      "1\n",
      "Enter the interval to compute the eigenvalue: \n",
      "-2\n",
      "0\n",
      "Eigenvalue found in the interval [-2.0, 0.0]: -1.38197\n"
     ]
    }
   ],
   "source": [
    "import math\n",
    "\n",
    "def poly(l, dim, a, b):\n",
    "    p = [0] * (dim + 1)\n",
    "    p[0] = 1\n",
    "    b[0] = 0\n",
    "    a[0] = 0\n",
    "    s = 0\n",
    "    for i in range(2, dim+1):\n",
    "        p[1] = a[1] - l\n",
    "        p[i] = ((a[i] - l) * p[i-1]) - (p[i-2] * (b[i-1] ** 2))\n",
    "    for k in range(dim):\n",
    "        if math.copysign(1, p[k]) != math.copysign(1, p[k+1]):\n",
    "            s += 1\n",
    "    return s\n",
    "\n",
    "def bisection(l1, l2, n, a, b):\n",
    "    eps = 1e-6\n",
    "    x = poly(l1, n, a, b)\n",
    "    y = poly(l2, n, a, b)\n",
    "    if x == y:\n",
    "        print(\"Error: no sign change in the interval\")\n",
    "        return math.nan\n",
    "    while l2 - l1 > eps:\n",
    "        l3 = (l1 + l2) / 2\n",
    "        z = poly(l3, n, a, b)\n",
    "        if z == x:\n",
    "            l1 = l3\n",
    "        else:\n",
    "            l2 = l3\n",
    "    return (l1 + l2) / 2\n",
    "\n",
    "if __name__ == \"__main__\":\n",
    "    n = int(input(\"Enter the dimension of the matrix: \"))\n",
    "    alpha = [0] * (n + 1)\n",
    "    beta = [0] * n\n",
    "    lambda_interval = [0] * 2\n",
    "    print(\"Enter the diagonal elements: \")\n",
    "    for i in range(1, n+1):\n",
    "        alpha[i] = float(input())\n",
    "    print(\"Enter the subdiagonal elements: \")\n",
    "    for i in range(1, n):\n",
    "        beta[i] = float(input())\n",
    "    print(\"Enter the interval to compute the eigenvalue: \")\n",
    "    for i in range(2):\n",
    "        lambda_interval[i] = float(input())\n",
    "    eigval = bisection(lambda_interval[0], lambda_interval[1], n, alpha, beta)\n",
    "    print(f\"Eigenvalue found in the interval [{lambda_interval[0]}, {lambda_interval[1]}]: {eigval:.5f}\")\n"
   ]
  },
  {
   "cell_type": "code",
   "execution_count": null,
   "id": "4b0e607f",
   "metadata": {},
   "outputs": [],
   "source": []
  }
 ],
 "metadata": {
  "kernelspec": {
   "display_name": "Python 3 (ipykernel)",
   "language": "python",
   "name": "python3"
  },
  "language_info": {
   "codemirror_mode": {
    "name": "ipython",
    "version": 3
   },
   "file_extension": ".py",
   "mimetype": "text/x-python",
   "name": "python",
   "nbconvert_exporter": "python",
   "pygments_lexer": "ipython3",
   "version": "3.9.12"
  }
 },
 "nbformat": 4,
 "nbformat_minor": 5
}
