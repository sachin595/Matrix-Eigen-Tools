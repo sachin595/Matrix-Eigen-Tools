{
 "cells": [
  {
   "cell_type": "markdown",
   "id": "e656aee5",
   "metadata": {},
   "source": [
    "# Determining the number of eigenvalues reside in a given interval using Strum Sequence"
   ]
  },
  {
   "cell_type": "code",
   "execution_count": 5,
   "id": "9d5ef94a",
   "metadata": {},
   "outputs": [
    {
     "name": "stdout",
     "output_type": "stream",
     "text": [
      "Enter the dimension of the matrix: 4\n",
      "Enter the diagonal elements: \n",
      "-2\n",
      "-2\n",
      "-2\n",
      "-2\n",
      "Enter the subdiagonal elements: \n",
      "1\n",
      "1\n",
      "1\n",
      "Enter the intervals to compute the number of eigen values: \n",
      "-2\n",
      "0\n",
      "The number of eigen values for a given interval using the strum sequence is: 2\n"
     ]
    }
   ],
   "source": [
    "import math\n",
    "\n",
    "n = int(input(\"Enter the dimension of the matrix: \"))\n",
    "alpha = [0]*(n+1)\n",
    "beta = [0]*n\n",
    "lambda_val = [0]*2\n",
    "p = [0]*(n+1)\n",
    "\n",
    "print(\"Enter the diagonal elements: \")\n",
    "for i in range(1, n+1):\n",
    "    alpha[i] = float(input())\n",
    "\n",
    "print(\"Enter the subdiagonal elements: \")\n",
    "for i in range(1, n):\n",
    "    beta[i] = float(input())\n",
    "\n",
    "print(\"Enter the intervals to compute the number of eigen values: \")\n",
    "for i in range(2):\n",
    "    lambda_val[i] = float(input())\n",
    "\n",
    "s = [0]*2\n",
    "p[0] = 1\n",
    "beta[0] = 0\n",
    "alpha[0] = 0\n",
    "\n",
    "for j in range(2):\n",
    "    for i in range(2, n+1):\n",
    "        p[1] = alpha[1] - lambda_val[j]\n",
    "        p[i] = ((alpha[i] - lambda_val[j]) * p[i-1]) - (p[i-2] * (beta[i-1]**2))\n",
    "\n",
    "    for k in range(n):\n",
    "        if math.copysign(1, p[k]) != math.copysign(1, p[k+1]):\n",
    "            s[j] += 1\n",
    "\n",
    "diff = abs(s[0] - s[1])\n",
    "print(\"The number of eigen values for a given interval using the strum sequence is:\", diff)\n"
   ]
  },
  {
   "cell_type": "code",
   "execution_count": null,
   "id": "337f82f9",
   "metadata": {},
   "outputs": [],
   "source": []
  }
 ],
 "metadata": {
  "kernelspec": {
   "display_name": "Python 3 (ipykernel)",
   "language": "python",
   "name": "python3"
  },
  "language_info": {
   "codemirror_mode": {
    "name": "ipython",
    "version": 3
   },
   "file_extension": ".py",
   "mimetype": "text/x-python",
   "name": "python",
   "nbconvert_exporter": "python",
   "pygments_lexer": "ipython3",
   "version": "3.9.12"
  }
 },
 "nbformat": 4,
 "nbformat_minor": 5
}
